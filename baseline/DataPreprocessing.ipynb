{
 "cells": [
  {
   "cell_type": "code",
   "execution_count": 2,
   "id": "6dc9b29b-1865-4ee2-b729-cd2b95435bc7",
   "metadata": {
    "tags": []
   },
   "outputs": [],
   "source": [
    "import pandas as pd\n",
    "import tarfile"
   ]
  },
  {
   "cell_type": "code",
   "execution_count": 3,
   "id": "d72be02f-f253-4582-bed1-a3b919d6f6f6",
   "metadata": {
    "tags": []
   },
   "outputs": [],
   "source": [
    "tar = tarfile.open(\"/blue/cap4773/tej/baseline/data/road-damage-DatasetNinja.tar\")\n",
    "tar.extractall()\n",
    "tar.close()"
   ]
  },
  {
   "cell_type": "code",
   "execution_count": 4,
   "id": "75171911-dd15-4675-abce-fd04bd7ba35c",
   "metadata": {
    "tags": []
   },
   "outputs": [],
   "source": [
    "cnn_data_pth = \"/blue/cap4773/tej/baseline/data/cnn\""
   ]
  },
  {
   "cell_type": "code",
   "execution_count": null,
   "id": "ca93d7e6-810b-41e8-ae34-529bd9ce78f2",
   "metadata": {},
   "outputs": [],
   "source": []
  }
 ],
 "metadata": {
  "kernelspec": {
   "display_name": "llm_hruday",
   "language": "python",
   "name": "llm_hruday"
  },
  "language_info": {
   "codemirror_mode": {
    "name": "ipython",
    "version": 3
   },
   "file_extension": ".py",
   "mimetype": "text/x-python",
   "name": "python",
   "nbconvert_exporter": "python",
   "pygments_lexer": "ipython3",
   "version": "3.9.19"
  }
 },
 "nbformat": 4,
 "nbformat_minor": 5
}
