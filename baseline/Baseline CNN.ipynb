{
 "cells": [
  {
   "cell_type": "code",
   "execution_count": 1,
   "id": "f05cf20f-f2be-479d-b190-e021af0ee147",
   "metadata": {},
   "outputs": [],
   "source": [
    "import pandas as pd\n",
    "import os\n",
    "import json\n",
    "import numpy as np\n",
    "from sklearn.model_selection import train_test_split\n",
    "import cv2\n",
    "import tensorflow as tf\n",
    "from keras.models import Sequential\n",
    "from keras.layers import Conv2D, MaxPooling2D, Flatten, Dense, Dropout, BatchNormalization\n",
    "from sklearn.metrics import classification_report, accuracy_score"
   ]
  },
  {
   "cell_type": "code",
   "execution_count": 2,
   "id": "c359b7fc-0d1e-46e5-8082-4d487a87e366",
   "metadata": {},
   "outputs": [],
   "source": [
    "# Data Prep"
   ]
  },
  {
   "cell_type": "code",
   "execution_count": 3,
   "id": "a7189c45-a1da-4fdc-ba0f-fef96b761ae5",
   "metadata": {
    "tags": []
   },
   "outputs": [],
   "source": [
    "data_base_pth = \"/blue/cap4773/tej/baseline/data/raw_rdd/ds0\"\n",
    "annotation_base = os.path.join(data_base_pth, \"ann\")\n",
    "images_base = os.path.join(data_base_pth, \"img\")"
   ]
  },
  {
   "cell_type": "code",
   "execution_count": 4,
   "id": "8bcb83fe-01a8-43dc-bbb5-0404ec48b081",
   "metadata": {
    "tags": []
   },
   "outputs": [],
   "source": [
    "image_class_map = {}\n",
    "classes = set()  # Initialize an empty set to store all unique class names\n",
    "\n",
    "# Loop through all annotations (JSON files)\n",
    "for annotation in os.listdir(annotation_base):\n",
    "    if annotation.endswith(\".json\"):\n",
    "        annotation_path = os.path.join(annotation_base, annotation)\n",
    "\n",
    "        with open(annotation_path, \"r\") as file:\n",
    "            annotation_data = json.load(file)\n",
    "\n",
    "            base_filename = os.path.splitext(annotation)[0]\n",
    "            image_classes = []\n",
    "\n",
    "            # Extract classes from the \"objects\" field in the JSON\n",
    "            for obj in annotation_data.get(\"objects\", []):\n",
    "                class_title = obj[\"classTitle\"]\n",
    "                image_classes.append(class_title)\n",
    "                classes.add(class_title)  # Add class to the set (ensures uniqueness)\n",
    "\n",
    "            # Construct the image path\n",
    "            image_path = os.path.join(images_base, base_filename)  # Adjust extension if needed\n",
    "            if os.path.exists(image_path):\n",
    "                image_class_map[image_path] = image_classes\n"
   ]
  },
  {
   "cell_type": "code",
   "execution_count": 5,
   "id": "e1f13936-1ddf-4dfc-943e-f339d865b39e",
   "metadata": {
    "tags": []
   },
   "outputs": [],
   "source": [
    "classes = sorted(list(classes))  # Now `classes` contains all unique class names\n",
    "\n",
    "# Map each class to an index\n",
    "class_to_index = {class_name: i for i, class_name in enumerate(classes)}\n",
    "\n",
    "# Convert image labels to a binary multi-label matrix\n",
    "image_paths = list(image_class_map.keys())\n",
    "image_labels = list(image_class_map.values())"
   ]
  },
  {
   "cell_type": "code",
   "execution_count": 6,
   "id": "dae192a8-b100-4e4c-ad9b-eefe2dc9e772",
   "metadata": {
    "tags": []
   },
   "outputs": [],
   "source": [
    "def load_and_preprocess_image(image_path, target_size=(128, 128)):\n",
    "    # Read the image from file\n",
    "    img = cv2.imread(image_path)\n",
    "    \n",
    "    # Check if the image is loaded correctly\n",
    "    if img is None:\n",
    "        raise ValueError(f\"Image at {image_path} could not be loaded.\")\n",
    "    \n",
    "    # Resize the image to the target size\n",
    "    img_resized = cv2.resize(img, target_size)\n",
    "    \n",
    "    # Normalize the pixel values (convert to float and divide by 255)\n",
    "    img_normalized = img_resized / 255.0\n",
    "    \n",
    "    return img_normalized"
   ]
  },
  {
   "cell_type": "code",
   "execution_count": 7,
   "id": "9485fc73-3617-420d-ab42-f6018d358e99",
   "metadata": {
    "tags": []
   },
   "outputs": [],
   "source": [
    "multi_label_matrix = []\n",
    "for labels in image_labels:\n",
    "    binary_vector = [0] * len(classes)\n",
    "    for label in labels:\n",
    "        binary_vector[class_to_index[label]] = 1\n",
    "    multi_label_matrix.append(binary_vector)\n",
    "\n",
    "multi_label_matrix = np.array(multi_label_matrix)"
   ]
  },
  {
   "cell_type": "code",
   "execution_count": 8,
   "id": "ac667bbe-7ad3-4adb-a4ab-0d926efb4d96",
   "metadata": {
    "tags": []
   },
   "outputs": [],
   "source": [
    "images_data = []\n",
    "\n",
    "for image_path in image_paths:\n",
    "    img = load_and_preprocess_image(image_path)  # Load and preprocess the image\n",
    "    images_data.append(img)\n",
    "\n",
    "images_data = np.array(images_data)\n",
    "train_X, test_X, train_Y, test_Y = train_test_split(images_data, multi_label_matrix, test_size=0.2, random_state=42)"
   ]
  },
  {
   "cell_type": "code",
   "execution_count": 9,
   "id": "668c8f0f-4074-46b2-a928-5a2df7b5bf6c",
   "metadata": {
    "tags": []
   },
   "outputs": [
    {
     "name": "stdout",
     "output_type": "stream",
     "text": [
      "(2656, 128, 128, 3)\n",
      "(2656, 4)\n",
      "(665, 128, 128, 3)\n",
      "(665, 4)\n"
     ]
    }
   ],
   "source": [
    "print(train_X.shape)\n",
    "print(train_Y.shape)\n",
    "print(test_X.shape)\n",
    "print(test_Y.shape)"
   ]
  },
  {
   "cell_type": "code",
   "execution_count": 10,
   "id": "19931c92-1672-4724-afe9-9179af468214",
   "metadata": {
    "tags": []
   },
   "outputs": [
    {
     "name": "stderr",
     "output_type": "stream",
     "text": [
      "2024-09-24 13:16:00.655472: I tensorflow/core/platform/cpu_feature_guard.cc:151] This TensorFlow binary is optimized with oneAPI Deep Neural Network Library (oneDNN) to use the following CPU instructions in performance-critical operations:  SSE4.1 SSE4.2 AVX AVX2 FMA\n",
      "To enable them in other operations, rebuild TensorFlow with the appropriate compiler flags.\n",
      "2024-09-24 13:16:01.348205: I tensorflow/core/common_runtime/gpu/gpu_device.cc:1525] Created device /job:localhost/replica:0/task:0/device:GPU:0 with 78902 MB memory:  -> device: 0, name: NVIDIA A100-SXM4-80GB, pci bus id: 0000:07:00.0, compute capability: 8.0\n"
     ]
    },
    {
     "name": "stdout",
     "output_type": "stream",
     "text": [
      "Model: \"sequential\"\n",
      "_________________________________________________________________\n",
      " Layer (type)                Output Shape              Param #   \n",
      "=================================================================\n",
      " conv2d (Conv2D)             (None, 128, 128, 32)      896       \n",
      "                                                                 \n",
      " batch_normalization (BatchN  (None, 128, 128, 32)     128       \n",
      " ormalization)                                                   \n",
      "                                                                 \n",
      " max_pooling2d (MaxPooling2D  (None, 64, 64, 32)       0         \n",
      " )                                                               \n",
      "                                                                 \n",
      " dropout (Dropout)           (None, 64, 64, 32)        0         \n",
      "                                                                 \n",
      " conv2d_1 (Conv2D)           (None, 64, 64, 64)        18496     \n",
      "                                                                 \n",
      " batch_normalization_1 (Batc  (None, 64, 64, 64)       256       \n",
      " hNormalization)                                                 \n",
      "                                                                 \n",
      " max_pooling2d_1 (MaxPooling  (None, 32, 32, 64)       0         \n",
      " 2D)                                                             \n",
      "                                                                 \n",
      " dropout_1 (Dropout)         (None, 32, 32, 64)        0         \n",
      "                                                                 \n",
      " conv2d_2 (Conv2D)           (None, 32, 32, 128)       73856     \n",
      "                                                                 \n",
      " batch_normalization_2 (Batc  (None, 32, 32, 128)      512       \n",
      " hNormalization)                                                 \n",
      "                                                                 \n",
      " max_pooling2d_2 (MaxPooling  (None, 16, 16, 128)      0         \n",
      " 2D)                                                             \n",
      "                                                                 \n",
      " dropout_2 (Dropout)         (None, 16, 16, 128)       0         \n",
      "                                                                 \n",
      " flatten (Flatten)           (None, 32768)             0         \n",
      "                                                                 \n",
      " dense (Dense)               (None, 128)               4194432   \n",
      "                                                                 \n",
      " batch_normalization_3 (Batc  (None, 128)              512       \n",
      " hNormalization)                                                 \n",
      "                                                                 \n",
      " dropout_3 (Dropout)         (None, 128)               0         \n",
      "                                                                 \n",
      " dense_1 (Dense)             (None, 64)                8256      \n",
      "                                                                 \n",
      " batch_normalization_4 (Batc  (None, 64)               256       \n",
      " hNormalization)                                                 \n",
      "                                                                 \n",
      " dropout_4 (Dropout)         (None, 64)                0         \n",
      "                                                                 \n",
      " dense_2 (Dense)             (None, 4)                 260       \n",
      "                                                                 \n",
      "=================================================================\n",
      "Total params: 4,297,860\n",
      "Trainable params: 4,297,028\n",
      "Non-trainable params: 832\n",
      "_________________________________________________________________\n"
     ]
    }
   ],
   "source": [
    "def build_multilabel_classifier(input_shape=(128, 128, 3), num_classes=3):\n",
    "    model = Sequential()\n",
    "\n",
    "    # First Convolutional Block\n",
    "    model.add(Conv2D(32, (3, 3), activation='relu', padding='same', input_shape=input_shape))\n",
    "    model.add(BatchNormalization())\n",
    "    model.add(MaxPooling2D(pool_size=(2, 2)))\n",
    "    model.add(Dropout(0.25))\n",
    "\n",
    "    # Second Convolutional Block\n",
    "    model.add(Conv2D(64, (3, 3), activation='relu', padding='same'))\n",
    "    model.add(BatchNormalization())\n",
    "    model.add(MaxPooling2D(pool_size=(2, 2)))\n",
    "    model.add(Dropout(0.25))\n",
    "\n",
    "    # Third Convolutional Block\n",
    "    model.add(Conv2D(128, (3, 3), activation='relu', padding='same'))\n",
    "    model.add(BatchNormalization())\n",
    "    model.add(MaxPooling2D(pool_size=(2, 2)))\n",
    "    model.add(Dropout(0.25))\n",
    "\n",
    "    # Fully Connected Layers\n",
    "    model.add(Flatten())\n",
    "    model.add(Dense(128, activation='relu'))\n",
    "    model.add(BatchNormalization())\n",
    "    model.add(Dropout(0.5))\n",
    "\n",
    "    model.add(Dense(64, activation='relu'))\n",
    "    model.add(BatchNormalization())\n",
    "    model.add(Dropout(0.5))\n",
    "\n",
    "    # Output Layer: One neuron per class with sigmoid activation for multi-label classification\n",
    "    model.add(Dense(num_classes, activation='sigmoid'))\n",
    "\n",
    "    # Compile the model with binary_crossentropy for multi-label classification\n",
    "    model.compile(optimizer='adam', loss='binary_crossentropy', metrics=['accuracy'])\n",
    "    \n",
    "    return model\n",
    "\n",
    "# Create the model for multi-class, multi-label classification\n",
    "num_classes = len(classes)  # For example, if you have 3 types of cracks\n",
    "multilabel_model = build_multilabel_classifier(num_classes=num_classes)\n",
    "\n",
    "# Summary of the model\n",
    "multilabel_model.summary()"
   ]
  },
  {
   "cell_type": "code",
   "execution_count": 11,
   "id": "d247813b-81ed-44f8-ae60-92b4572e7ddf",
   "metadata": {
    "tags": []
   },
   "outputs": [
    {
     "name": "stdout",
     "output_type": "stream",
     "text": [
      "Epoch 1/25\n"
     ]
    },
    {
     "name": "stderr",
     "output_type": "stream",
     "text": [
      "2024-09-24 13:16:05.029399: I tensorflow/stream_executor/cuda/cuda_dnn.cc:366] Loaded cuDNN version 8201\n",
      "2024-09-24 13:16:06.689021: I tensorflow/stream_executor/cuda/cuda_blas.cc:1774] TensorFloat-32 will be used for the matrix multiplication. This will only be logged once.\n"
     ]
    },
    {
     "name": "stdout",
     "output_type": "stream",
     "text": [
      "83/83 [==============================] - 5s 13ms/step - loss: 0.8526 - accuracy: 0.3291 - val_loss: 2.2672 - val_accuracy: 0.2511\n",
      "Epoch 2/25\n",
      "83/83 [==============================] - 1s 9ms/step - loss: 0.7245 - accuracy: 0.3656 - val_loss: 2.0939 - val_accuracy: 0.2602\n",
      "Epoch 3/25\n",
      "83/83 [==============================] - 1s 12ms/step - loss: 0.6473 - accuracy: 0.4010 - val_loss: 2.7321 - val_accuracy: 0.2797\n",
      "Epoch 4/25\n",
      "83/83 [==============================] - 1s 11ms/step - loss: 0.6084 - accuracy: 0.4217 - val_loss: 1.4497 - val_accuracy: 0.2511\n",
      "Epoch 5/25\n",
      "83/83 [==============================] - 1s 12ms/step - loss: 0.5730 - accuracy: 0.4582 - val_loss: 1.0410 - val_accuracy: 0.2481\n",
      "Epoch 6/25\n",
      "83/83 [==============================] - 1s 11ms/step - loss: 0.5349 - accuracy: 0.4902 - val_loss: 0.8483 - val_accuracy: 0.3910\n",
      "Epoch 7/25\n",
      "83/83 [==============================] - 1s 13ms/step - loss: 0.5269 - accuracy: 0.5008 - val_loss: 0.7100 - val_accuracy: 0.3774\n",
      "Epoch 8/25\n",
      "83/83 [==============================] - 1s 12ms/step - loss: 0.4956 - accuracy: 0.5399 - val_loss: 0.5851 - val_accuracy: 0.4436\n",
      "Epoch 9/25\n",
      "83/83 [==============================] - 1s 9ms/step - loss: 0.4921 - accuracy: 0.5399 - val_loss: 1.0095 - val_accuracy: 0.3248\n",
      "Epoch 10/25\n",
      "83/83 [==============================] - 1s 9ms/step - loss: 0.4701 - accuracy: 0.5738 - val_loss: 0.6101 - val_accuracy: 0.4481\n",
      "Epoch 11/25\n",
      "83/83 [==============================] - 1s 9ms/step - loss: 0.4537 - accuracy: 0.5753 - val_loss: 0.5806 - val_accuracy: 0.4782\n",
      "Epoch 12/25\n",
      "83/83 [==============================] - 1s 9ms/step - loss: 0.4262 - accuracy: 0.6039 - val_loss: 0.6898 - val_accuracy: 0.4436\n",
      "Epoch 13/25\n",
      "83/83 [==============================] - 1s 9ms/step - loss: 0.4071 - accuracy: 0.6325 - val_loss: 1.1037 - val_accuracy: 0.3293\n",
      "Epoch 14/25\n",
      "83/83 [==============================] - 1s 9ms/step - loss: 0.3880 - accuracy: 0.6510 - val_loss: 0.5193 - val_accuracy: 0.5128\n",
      "Epoch 15/25\n",
      "83/83 [==============================] - 1s 9ms/step - loss: 0.3742 - accuracy: 0.6630 - val_loss: 0.5376 - val_accuracy: 0.5113\n",
      "Epoch 16/25\n",
      "83/83 [==============================] - 1s 8ms/step - loss: 0.3450 - accuracy: 0.6901 - val_loss: 1.2230 - val_accuracy: 0.3699\n",
      "Epoch 17/25\n",
      "83/83 [==============================] - 1s 9ms/step - loss: 0.3269 - accuracy: 0.7105 - val_loss: 0.4519 - val_accuracy: 0.6271\n",
      "Epoch 18/25\n",
      "83/83 [==============================] - 1s 9ms/step - loss: 0.3148 - accuracy: 0.7086 - val_loss: 0.4339 - val_accuracy: 0.6120\n",
      "Epoch 19/25\n",
      "83/83 [==============================] - 1s 9ms/step - loss: 0.2936 - accuracy: 0.7398 - val_loss: 0.4259 - val_accuracy: 0.6060\n",
      "Epoch 20/25\n",
      "83/83 [==============================] - 1s 8ms/step - loss: 0.2798 - accuracy: 0.7492 - val_loss: 0.5401 - val_accuracy: 0.5429\n",
      "Epoch 21/25\n",
      "83/83 [==============================] - 1s 9ms/step - loss: 0.2607 - accuracy: 0.7602 - val_loss: 0.5467 - val_accuracy: 0.5925\n",
      "Epoch 22/25\n",
      "83/83 [==============================] - 1s 9ms/step - loss: 0.2527 - accuracy: 0.7715 - val_loss: 0.5064 - val_accuracy: 0.5895\n",
      "Epoch 23/25\n",
      "83/83 [==============================] - 1s 9ms/step - loss: 0.2256 - accuracy: 0.7888 - val_loss: 0.6248 - val_accuracy: 0.6060\n",
      "Epoch 24/25\n",
      "83/83 [==============================] - 1s 8ms/step - loss: 0.2162 - accuracy: 0.7941 - val_loss: 0.4811 - val_accuracy: 0.5925\n",
      "Epoch 25/25\n",
      "83/83 [==============================] - 1s 9ms/step - loss: 0.2034 - accuracy: 0.8069 - val_loss: 0.9538 - val_accuracy: 0.4752\n"
     ]
    }
   ],
   "source": [
    "# Define the number of epochs and batch size\n",
    "epochs = 25  # You can adjust this number based on your dataset and performance\n",
    "batch_size = 32  # Adjust based on available memory and hardware\n",
    "\n",
    "# Train the model\n",
    "history = multilabel_model.fit(\n",
    "    train_X,              # Training images (NumPy array of preprocessed images)\n",
    "    train_Y,              # Multi-label binary vectors for each image\n",
    "    epochs=epochs,        # Number of epochs to train\n",
    "    batch_size=batch_size,  # Batch size (tune according to hardware capacity)\n",
    "    validation_data=(test_X, test_Y),  # Validation data (to monitor model performance)\n",
    "    verbose=1             # Set verbose to 1 to see progress during training\n",
    ")"
   ]
  },
  {
   "cell_type": "code",
   "execution_count": 18,
   "id": "85edda87-97ed-48c7-8e8a-395d81f1d626",
   "metadata": {
    "tags": []
   },
   "outputs": [
    {
     "name": "stdout",
     "output_type": "stream",
     "text": [
      "Example 53:\n",
      "True labels (binary vector): [1 1 1 0]\n",
      "Predicted labels (binary vector): [1 1 1 0]\n"
     ]
    }
   ],
   "source": [
    "predictions = multilabel_model.predict(test_X)\n",
    "\n",
    "# Apply a threshold (e.g., 0.5) to convert probabilities to binary labels (multi-label)\n",
    "threshold = 0.5\n",
    "predicted_labels = (predictions > threshold).astype(int)\n",
    "\n",
    "# Choose a random index from the test set\n",
    "random_index = np.random.randint(0, len(test_X))\n",
    "\n",
    "# Get the true and predicted labels for the chosen index\n",
    "true_labels = test_Y[random_index]\n",
    "predicted_labels_for_example = predicted_labels[random_index]\n",
    "\n",
    "# Print out the results\n",
    "print(f\"Example {random_index}:\")\n",
    "print(f\"True labels (binary vector): {true_labels}\")\n",
    "print(f\"Predicted labels (binary vector): {predicted_labels_for_example}\")"
   ]
  },
  {
   "cell_type": "code",
   "execution_count": 13,
   "id": "28227cfb-6eee-499b-9b04-b2cd7ac998ee",
   "metadata": {},
   "outputs": [
    {
     "data": {
      "image/png": "[encoded data removed]",
      "text/plain": [
       "<Figure size 432x432 with 2 Axes>"
      ]
     },
     "metadata": {
      "needs_background": "light"
     },
     "output_type": "display_data"
    },
    {
     "data": {
      "image/png": "[encoded data removed]",
      "text/plain": [
       "<Figure size 432x432 with 2 Axes>"
      ]
     },
     "metadata": {
      "needs_background": "light"
     },
     "output_type": "display_data"
    },
    {
     "data": {
      "image/png": "[encoded data removed]",
      "text/plain": [
       "<Figure size 432x432 with 2 Axes>"
      ]
     },
     "metadata": {
      "needs_background": "light"
     },
     "output_type": "display_data"
    },
    {
     "data": {
      "image/png": "[encoded data removed]",
      "text/plain": [
       "<Figure size 432x432 with 2 Axes>"
      ]
     },
     "metadata": {
      "needs_background": "light"
     },
     "output_type": "display_data"
    }
   ],
   "source": [
    "import numpy as np\n",
    "from sklearn.metrics import multilabel_confusion_matrix\n",
    "import matplotlib.pyplot as plt\n",
    "import seaborn as sns\n",
    "\n",
    "# Set the threshold for binarizing predictions\n",
    "threshold = 0.5\n",
    "\n",
    "# Make predictions on the test set\n",
    "predictions = multilabel_model.predict(test_X)\n",
    "\n",
    "# Binarize predictions\n",
    "binary_predictions = (predictions > threshold).astype(int)\n",
    "\n",
    "# Compute confusion matrix\n",
    "conf_matrix = multilabel_confusion_matrix(test_Y, binary_predictions)\n",
    "\n",
    "# Function to plot confusion matrices\n",
    "def plot_confusion_matrices(conf_matrix, classes, max_classes=10):\n",
    "    num_classes = len(classes)\n",
    "    if num_classes > max_classes:\n",
    "        print(f\"Displaying only the first {max_classes} classes.\")\n",
    "    \n",
    "    for i in range(min(num_classes, max_classes)):\n",
    "        plt.figure(figsize=(6, 6))\n",
    "        sns.heatmap(conf_matrix[i], annot=True, fmt='d', cmap='Blues', \n",
    "                     xticklabels=['Not Present', 'Present'], \n",
    "                     yticklabels=['Not Present', 'Present'])\n",
    "        plt.title(f'Confusion Matrix for {classes[i]}')\n",
    "        plt.xlabel('Predicted')\n",
    "        plt.ylabel('True')\n",
    "        plt.show()\n",
    "\n",
    "# Define your class names (modify this according to your actual class names)\n",
    "classes = [f'Class {i+1}' for i in range(num_classes)]  # Update based on your actual classes\n",
    "\n",
    "# Plot confusion matrices for a maximum of 10 classes\n",
    "plot_confusion_matrices(conf_matrix, classes, max_classes=10)"
   ]
  },
  {
   "cell_type": "code",
   "execution_count": 14,
   "id": "4c5ffb14-ea30-4ae6-b150-b1fdb0193bea",
   "metadata": {},
   "outputs": [
    {
     "name": "stdout",
     "output_type": "stream",
     "text": [
      "Precision: 0.6557\n",
      "Recall: 0.4586\n",
      "F1 Score: 0.4273\n"
     ]
    }
   ],
   "source": [
    "from sklearn.metrics import precision_score, recall_score, f1_score\n",
    "\n",
    "# Assuming binary_predictions and test_Y are already defined\n",
    "# For multi-label, set average='macro' for unweighted mean, or 'micro' for aggregated metrics\n",
    "precision = precision_score(test_Y, binary_predictions, average='macro')\n",
    "recall = recall_score(test_Y, binary_predictions, average='macro')\n",
    "f1 = f1_score(test_Y, binary_predictions, average='macro')\n",
    "\n",
    "# Print the results\n",
    "print(f'Precision: {precision:.4f}')\n",
    "print(f'Recall: {recall:.4f}')\n",
    "print(f'F1 Score: {f1:.4f}')\n"
   ]
  },
  {
   "cell_type": "code",
   "execution_count": 15,
   "id": "1749d42b-54fa-4ce7-b189-25a5c573d5cf",
   "metadata": {
    "tags": []
   },
   "outputs": [
    {
     "data": {
      "image/png": "[encoded data removed]",
      "text/plain": [
       "<Figure size 864x576 with 1 Axes>"
      ]
     },
     "metadata": {
      "needs_background": "light"
     },
     "output_type": "display_data"
    }
   ],
   "source": [
    "import numpy as np\n",
    "import matplotlib.pyplot as plt\n",
    "from sklearn.metrics import roc_curve, auc\n",
    "\n",
    "# Assuming predictions and test_Y are already defined\n",
    "# Get the predicted probabilities\n",
    "predictions = multilabel_model.predict(test_X)\n",
    "\n",
    "# Number of classes\n",
    "num_classes = test_Y.shape[1]\n",
    "\n",
    "# Set up the plot\n",
    "plt.figure(figsize=(12, 8))\n",
    "\n",
    "# Compute ROC curve and ROC area for each class\n",
    "for i in range(num_classes):\n",
    "    fpr, tpr, _ = roc_curve(test_Y[:, i], predictions[:, i])\n",
    "    roc_auc = auc(fpr, tpr)\n",
    "    \n",
    "    plt.plot(fpr, tpr, label=f'Class {i + 1} (AUC = {roc_auc:.2f})')\n",
    "\n",
    "# Plotting the diagonal line (chance level)\n",
    "plt.plot([0, 1], [0, 1], linestyle='--', color='gray')\n",
    "\n",
    "# Plot details\n",
    "plt.xlim([0.0, 1.0])\n",
    "plt.ylim([0.0, 1.05])\n",
    "plt.xlabel('False Positive Rate')\n",
    "plt.ylabel('True Positive Rate')\n",
    "plt.title('Receiver Operating Characteristic (ROC) Curve')\n",
    "plt.legend(loc='lower right')\n",
    "plt.grid()\n",
    "plt.show()"
   ]
  },
  {
   "cell_type": "code",
   "execution_count": null,
   "id": "0ab33605-ffca-4ef0-a8c1-6794007955a3",
   "metadata": {},
   "outputs": [],
   "source": []
  }
 ],
 "metadata": {
  "kernelspec": {
   "display_name": "Tensorflow-2.7.0",
   "language": "python",
   "name": "tensorflow-2.7.0"
  },
  "language_info": {
   "codemirror_mode": {
    "name": "ipython",
    "version": 3
   },
   "file_extension": ".py",
   "mimetype": "text/x-python",
   "name": "python",
   "nbconvert_exporter": "python",
   "pygments_lexer": "ipython3",
   "version": "3.9.12"
  }
 },
 "nbformat": 4,
 "nbformat_minor": 5
}
