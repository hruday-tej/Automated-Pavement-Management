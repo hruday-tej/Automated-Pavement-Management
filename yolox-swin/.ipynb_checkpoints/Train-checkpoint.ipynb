{
 "cells": [
  {
   "cell_type": "code",
   "execution_count": 6,
   "id": "e7abc4fa-7de7-44fa-bc80-cfed9e00cbb0",
   "metadata": {
    "tags": []
   },
   "outputs": [
    {
     "name": "stdout",
     "output_type": "stream",
     "text": [
      "\u001b[34m\u001b[1mtrain: \u001b[0mweights=, cfg=./models/yolov5l.yaml, data=./data/custom-yolo.yaml, hyp=data/hyps/hyp.scratch-low.yaml, epochs=100, batch_size=16, imgsz=1920, rect=False, resume=False, nosave=False, noval=False, noautoanchor=False, noplots=False, evolve=None, evolve_population=data/hyps, resume_evolve=None, bucket=, cache=None, image_weights=False, device=, multi_scale=False, single_cls=False, optimizer=SGD, sync_bn=False, workers=8, project=runs/train, name=exp, exist_ok=False, quad=False, cos_lr=False, label_smoothing=0.0, patience=100, freeze=[0], save_period=-1, seed=0, local_rank=-1, entity=None, upload_dataset=False, bbox_interval=-1, artifact_alias=latest, ndjson_console=False, ndjson_file=False\n",
      "\u001b[34m\u001b[1mgithub: \u001b[0mskipping check (not a git repository), for updates see https://github.com/ultralytics/yolov5\n",
      "YOLOv5 🚀 2024-10-8 Python-3.12.3 torch-2.3.0 CUDA:0 (NVIDIA A100-SXM4-80GB, 81038MiB)\n",
      "\n",
      "\u001b[34m\u001b[1mhyperparameters: \u001b[0mlr0=0.01, lrf=0.01, momentum=0.937, weight_decay=0.0005, warmup_epochs=3.0, warmup_momentum=0.8, warmup_bias_lr=0.1, box=0.05, cls=0.5, cls_pw=1.0, obj=1.0, obj_pw=1.0, iou_t=0.2, anchor_t=4.0, fl_gamma=0.0, hsv_h=0.015, hsv_s=0.7, hsv_v=0.4, degrees=0.0, translate=0.1, scale=0.5, shear=0.0, perspective=0.0, flipud=0.0, fliplr=0.5, mosaic=1.0, mixup=0.0, copy_paste=0.0\n",
      "\u001b[34m\u001b[1mComet: \u001b[0mrun 'pip install comet_ml' to automatically track and visualize YOLOv5 🚀 runs in Comet\n",
      "\u001b[34m\u001b[1mTensorBoard: \u001b[0mStart with 'tensorboard --logdir runs/train', view at http://localhost:6006/\n",
      "Overriding model.yaml nc=80 with nc=4\n",
      "\n",
      "                 from  n    params  module                                  arguments                     \n",
      "Traceback (most recent call last):\n",
      "  File \"/blue/cap4773/tej/Automated-Pavement-Management/yolox-swin/train.py\", line 986, in <module>\n",
      "    main(opt)\n",
      "  File \"/blue/cap4773/tej/Automated-Pavement-Management/yolox-swin/train.py\", line 688, in main\n",
      "    train(opt.hyp, opt, device, callbacks)\n",
      "  File \"/blue/cap4773/tej/Automated-Pavement-Management/yolox-swin/train.py\", line 223, in train\n",
      "    model = Model(cfg, ch=3, nc=nc, anchors=hyp.get(\"anchors\")).to(device)  # create\n",
      "            ^^^^^^^^^^^^^^^^^^^^^^^^^^^^^^^^^^^^^^^^^^^^^^^^^^^\n",
      "  File \"/blue/cap4773/tej/Automated-Pavement-Management/yolox-swin/models/yolo.py\", line 242, in __init__\n",
      "    self.model, self.save = parse_model(deepcopy(self.yaml), ch=[ch])  # model, savelist\n",
      "                            ^^^^^^^^^^^^^^^^^^^^^^^^^^^^^^^^^^^^^^^^^\n",
      "  File \"/blue/cap4773/tej/Automated-Pavement-Management/yolox-swin/models/yolo.py\", line 451, in parse_model\n",
      "    m_ = nn.Sequential(*(m(*args) for _ in range(n))) if n > 1 else m(*args)  # module\n",
      "                                                                    ^^^^^^^^\n",
      "  File \"/blue/cap4773/tej/Automated-Pavement-Management/yolox-swin/models/common.py\", line 1118, in __init__\n",
      "    self.model = timm.create_model(\n",
      "                 ^^^^^^^^^^^^^^^^^^\n",
      "  File \"/home/hrudayte.akkalad/.local/lib/python3.12/site-packages/timm/models/_factory.py\", line 117, in create_model\n",
      "    model = create_fn(\n",
      "            ^^^^^^^^^^\n",
      "  File \"/home/hrudayte.akkalad/.local/lib/python3.12/site-packages/timm/models/swin_transformer.py\", line 1006, in swin_base_patch4_window7_224\n",
      "    return _create_swin_transformer(\n",
      "           ^^^^^^^^^^^^^^^^^^^^^^^^^\n",
      "  File \"/home/hrudayte.akkalad/.local/lib/python3.12/site-packages/timm/models/swin_transformer.py\", line 888, in _create_swin_transformer\n",
      "    model = build_model_with_cfg(\n",
      "            ^^^^^^^^^^^^^^^^^^^^^\n",
      "  File \"/home/hrudayte.akkalad/.local/lib/python3.12/site-packages/timm/models/_builder.py\", line 415, in build_model_with_cfg\n",
      "    model = model_cls(**kwargs)\n",
      "            ^^^^^^^^^^^^^^^^^^^\n",
      "  File \"/home/hrudayte.akkalad/.local/lib/python3.12/site-packages/timm/models/swin_transformer.py\", line 663, in __init__\n",
      "    num_heads=num_heads[i],\n",
      "              ~~~~~~~~~^^^\n",
      "TypeError: 'int' object is not subscriptable\n"
     ]
    }
   ],
   "source": [
    "!python train.py --img 1920 --batch 16 --epochs 100 --data ./data/custom-yolo.yaml --cfg ./models/yolov5l.yaml --weights ''"
   ]
  },
  {
   "cell_type": "code",
   "execution_count": null,
   "id": "73bcc08e-2646-4690-9628-b99eee943bd5",
   "metadata": {},
   "outputs": [],
   "source": []
  }
 ],
 "metadata": {
  "kernelspec": {
   "display_name": "Yolo-v8.2",
   "language": "python",
   "name": "yolo-v8.2"
  },
  "language_info": {
   "codemirror_mode": {
    "name": "ipython",
    "version": 3
   },
   "file_extension": ".py",
   "mimetype": "text/x-python",
   "name": "python",
   "nbconvert_exporter": "python",
   "pygments_lexer": "ipython3",
   "version": "3.12.3"
  }
 },
 "nbformat": 4,
 "nbformat_minor": 5
}
