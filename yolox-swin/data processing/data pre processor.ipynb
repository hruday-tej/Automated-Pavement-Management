{
 "cells": [
  {
   "cell_type": "code",
   "execution_count": 6,
   "id": "efdcb7c6-a2c8-4552-bde6-8aac9ad903b9",
   "metadata": {
    "tags": []
   },
   "outputs": [],
   "source": [
    "import os\n",
    "import shutil\n",
    "import random"
   ]
  },
  {
   "cell_type": "code",
   "execution_count": 11,
   "id": "7568e465-3b6b-4ed6-8185-e24c78bf1275",
   "metadata": {
    "tags": []
   },
   "outputs": [],
   "source": [
    "base_pth = \"/blue/cap4773/tej/Automated-Pavement-Management/data/raw/\"\n",
    "target = \"/blue/cap4773/tej/Automated-Pavement-Management/data/processed/\""
   ]
  },
  {
   "cell_type": "code",
   "execution_count": 12,
   "id": "0b627815-2756-4090-b8e0-779ca25a44eb",
   "metadata": {
    "tags": []
   },
   "outputs": [],
   "source": [
    "images = []\n",
    "# labels = []\n",
    "for file in os.listdir(base_pth):\n",
    "    if file.endswith(\".jpeg\"):\n",
    "        images.append(file)"
   ]
  },
  {
   "cell_type": "code",
   "execution_count": 22,
   "id": "a45773d8-86f3-4755-a068-30c383fa5954",
   "metadata": {
    "tags": []
   },
   "outputs": [],
   "source": [
    "total_len = len(images)\n",
    "tr = int(total_len * 0.8)\n",
    "te = int(total_len * 0.1)\n",
    "va = total_len - train - test"
   ]
  },
  {
   "cell_type": "code",
   "execution_count": 23,
   "id": "dc9ff1a1-c494-4fd7-9d94-e14d091d0439",
   "metadata": {
    "tags": []
   },
   "outputs": [],
   "source": [
    "random.shuffle(images)"
   ]
  },
  {
   "cell_type": "code",
   "execution_count": 25,
   "id": "b25bd7de-3707-4d86-b0f6-db6708df360b",
   "metadata": {
    "tags": []
   },
   "outputs": [],
   "source": [
    "train = images[0:tr]\n",
    "test = images[tr : tr + te]\n",
    "val = images[tr + te : ]"
   ]
  },
  {
   "cell_type": "code",
   "execution_count": 26,
   "id": "841521a6-2cbc-421f-91ef-13a953bf54b5",
   "metadata": {
    "tags": []
   },
   "outputs": [],
   "source": [
    "train_img_pth = os.path.join(target, \"train\", \"images\")\n",
    "train_lbl_pth = os.path.join(target, \"train\", \"labels\")\n",
    "\n",
    "test_img_pth = os.path.join(target, \"test\", \"images\")\n",
    "test_lbl_pth = os.path.join(target, \"test\", \"labels\")\n",
    "\n",
    "val_img_pth = os.path.join(target, \"val\", \"images\")\n",
    "val_lbl_pth = os.path.join(target, \"val\", \"labels\")\n",
    "\n",
    "os.makedirs(train_img_pth, exist_ok=True)\n",
    "os.makedirs(train_lbl_pth, exist_ok=True)\n",
    "\n",
    "os.makedirs(test_img_pth, exist_ok=True)\n",
    "os.makedirs(test_lbl_pth, exist_ok=True)\n",
    "\n",
    "os.makedirs(val_img_pth, exist_ok=True)\n",
    "os.makedirs(val_lbl_pth, exist_ok=True)\n"
   ]
  },
  {
   "cell_type": "code",
   "execution_count": 27,
   "id": "b340024a-1b6e-4fa8-a317-94406e92cc09",
   "metadata": {
    "tags": []
   },
   "outputs": [],
   "source": [
    "for img in train:\n",
    "    file_name = os.path.splitext(img)[0]\n",
    "    label_name = file_name + \".txt\"\n",
    "    \n",
    "    shutil.copyfile(os.path.join(base_pth, img), os.path.join(train_img_pth, img))\n",
    "    shutil.copyfile(os.path.join(base_pth, label_name), os.path.join(train_lbl_pth, label_name))\n",
    "    \n",
    "    "
   ]
  },
  {
   "cell_type": "code",
   "execution_count": 28,
   "id": "d62e80d5-c9f0-4b89-8069-771203f96957",
   "metadata": {
    "tags": []
   },
   "outputs": [],
   "source": [
    "for img in test:\n",
    "    file_name = os.path.splitext(img)[0]\n",
    "    label_name = file_name + \".txt\"\n",
    "    \n",
    "    shutil.copyfile(os.path.join(base_pth, img), os.path.join(test_img_pth, img))\n",
    "    shutil.copyfile(os.path.join(base_pth, label_name), os.path.join(test_lbl_pth, label_name))"
   ]
  },
  {
   "cell_type": "code",
   "execution_count": 29,
   "id": "0ebbf02a-d2f1-44b0-a62a-7946cee11c44",
   "metadata": {
    "tags": []
   },
   "outputs": [],
   "source": [
    "for img in val:\n",
    "    file_name = os.path.splitext(img)[0]\n",
    "    label_name = file_name + \".txt\"\n",
    "    \n",
    "    shutil.copyfile(os.path.join(base_pth, img), os.path.join(val_img_pth, img))\n",
    "    shutil.copyfile(os.path.join(base_pth, label_name), os.path.join(val_lbl_pth, label_name))"
   ]
  },
  {
   "cell_type": "code",
   "execution_count": 30,
   "id": "2cf4c9f1-f0b5-4197-8328-9e60fac91f12",
   "metadata": {
    "tags": []
   },
   "outputs": [],
   "source": [
    "# verification"
   ]
  },
  {
   "cell_type": "code",
   "execution_count": 32,
   "id": "7b11e8b5-10af-45da-9fce-d111d4986f9d",
   "metadata": {
    "tags": []
   },
   "outputs": [],
   "source": [
    "train_img_names = sorted([os.path.splitext(name)[0] for name in os.listdir(train_img_pth)])\n",
    "train_lbl_names = sorted([os.path.splitext(name)[0] for name in os.listdir(train_lbl_pth)])\n",
    "\n",
    "mismatched = [name for name in train_img_names if name not in train_lbl_names]"
   ]
  },
  {
   "cell_type": "code",
   "execution_count": 33,
   "id": "055c4d07-de0d-4880-a84c-2cf2bf91fdf5",
   "metadata": {
    "tags": []
   },
   "outputs": [
    {
     "data": {
      "text/plain": [
       "[]"
      ]
     },
     "execution_count": 33,
     "metadata": {},
     "output_type": "execute_result"
    }
   ],
   "source": [
    "mismatched"
   ]
  },
  {
   "cell_type": "code",
   "execution_count": 34,
   "id": "712438a4-3c35-4e17-a995-840a13aa2495",
   "metadata": {
    "tags": []
   },
   "outputs": [],
   "source": [
    "test_img_names = sorted([os.path.splitext(name)[0] for name in os.listdir(test_img_pth)])\n",
    "test_lbl_names = sorted([os.path.splitext(name)[0] for name in os.listdir(test_lbl_pth)])\n",
    "\n",
    "mismatched = [name for name in test_img_names if name not in test_lbl_names]"
   ]
  },
  {
   "cell_type": "code",
   "execution_count": 35,
   "id": "32c3454e-b411-4dc2-83b8-090cbc91936b",
   "metadata": {
    "tags": []
   },
   "outputs": [
    {
     "data": {
      "text/plain": [
       "[]"
      ]
     },
     "execution_count": 35,
     "metadata": {},
     "output_type": "execute_result"
    }
   ],
   "source": [
    "mismatched"
   ]
  },
  {
   "cell_type": "code",
   "execution_count": null,
   "id": "e7482340-7ee8-439c-bed9-b9aa8bc6ff17",
   "metadata": {},
   "outputs": [],
   "source": []
  }
 ],
 "metadata": {
  "kernelspec": {
   "display_name": "Tensorflow-2.15",
   "language": "python",
   "name": "tensorflow-2.15"
  },
  "language_info": {
   "codemirror_mode": {
    "name": "ipython",
    "version": 3
   },
   "file_extension": ".py",
   "mimetype": "text/x-python",
   "name": "python",
   "nbconvert_exporter": "python",
   "pygments_lexer": "ipython3",
   "version": "3.11.5"
  }
 },
 "nbformat": 4,
 "nbformat_minor": 5
}
